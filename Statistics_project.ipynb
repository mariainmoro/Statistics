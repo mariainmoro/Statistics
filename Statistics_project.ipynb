{
  "nbformat": 4,
  "nbformat_minor": 0,
  "metadata": {
    "colab": {
      "provenance": []
    },
    "kernelspec": {
      "name": "python3",
      "display_name": "Python 3"
    },
    "language_info": {
      "name": "python"
    }
  },
  "cells": [
    {
      "cell_type": "code",
      "execution_count": 2,
      "metadata": {
        "colab": {
          "base_uri": "https://localhost:8080/"
        },
        "id": "9JNK_D3_Mg4o",
        "outputId": "6e188872-385e-4d7e-b2a7-8b09fdaa6a49"
      },
      "outputs": [
        {
          "output_type": "stream",
          "name": "stdout",
          "text": [
            "   Density  BodyFat  Age  Weight  Height  Neck  Chest  Abdomen    Hip  Thigh  \\\n",
            "0   1.0708     12.3   23  154.25   67.75  36.2   93.1     85.2   94.5   59.0   \n",
            "1   1.0853      6.1   22  173.25   72.25  38.5   93.6     83.0   98.7   58.7   \n",
            "2   1.0414     25.3   22  154.00   66.25  34.0   95.8     87.9   99.2   59.6   \n",
            "3   1.0751     10.4   26  184.75   72.25  37.4  101.8     86.4  101.2   60.1   \n",
            "4   1.0340     28.7   24  184.25   71.25  34.4   97.3    100.0  101.9   63.2   \n",
            "\n",
            "   Knee  Ankle  Biceps  Forearm  Wrist  \n",
            "0  37.3   21.9    32.0     27.4   17.1  \n",
            "1  37.3   23.4    30.5     28.9   18.2  \n",
            "2  38.9   24.0    28.8     25.2   16.6  \n",
            "3  37.3   22.8    32.4     29.4   18.2  \n",
            "4  42.2   24.0    32.2     27.7   17.7  \n"
          ]
        }
      ],
      "source": [
        "import pandas as pd\n",
        "import numpy as np\n",
        "import matplotlib.pyplot as plt\n",
        "from scipy import stats\n",
        "df = pd.read_csv(\"bodyfat.csv\")\n",
        "print(df.head())\n"
      ]
    },
    {
      "cell_type": "code",
      "source": [
        "relevant_columns = ['Age', 'Weight', 'BodyFat']\n",
        "print(df[relevant_columns].describe())"
      ],
      "metadata": {
        "colab": {
          "base_uri": "https://localhost:8080/"
        },
        "id": "JlhUA0yDNY1_",
        "outputId": "45df7338-8d55-482e-8b09-fe81228eed14"
      },
      "execution_count": 3,
      "outputs": [
        {
          "output_type": "stream",
          "name": "stdout",
          "text": [
            "              Age      Weight     BodyFat\n",
            "count  252.000000  252.000000  252.000000\n",
            "mean    44.884921  178.924405   19.150794\n",
            "std     12.602040   29.389160    8.368740\n",
            "min     22.000000  118.500000    0.000000\n",
            "25%     35.750000  159.000000   12.475000\n",
            "50%     43.000000  176.500000   19.200000\n",
            "75%     54.000000  197.000000   25.300000\n",
            "max     81.000000  363.150000   47.500000\n"
          ]
        }
      ]
    },
    {
      "cell_type": "code",
      "source": [
        "correlation_matrix = df.corr()\n",
        "print(correlation_matrix)\n",
        "\n",
        "pair_1 = ('Weight', 'BodyFat')\n",
        "pair_2 = ('Age', 'BodyFat')\n"
      ],
      "metadata": {
        "colab": {
          "base_uri": "https://localhost:8080/"
        },
        "id": "SYjBmwGmODpg",
        "outputId": "ad2d1f23-86b3-40a3-bff8-d38940cb7b72"
      },
      "execution_count": 4,
      "outputs": [
        {
          "output_type": "stream",
          "name": "stdout",
          "text": [
            "          Density   BodyFat       Age    Weight    Height      Neck     Chest  \\\n",
            "Density  1.000000 -0.987782 -0.277637 -0.594062  0.097881 -0.472966 -0.682599   \n",
            "BodyFat -0.987782  1.000000  0.291458  0.612414 -0.089495  0.490592  0.702620   \n",
            "Age     -0.277637  0.291458  1.000000 -0.012746 -0.171645  0.113505  0.176450   \n",
            "Weight  -0.594062  0.612414 -0.012746  1.000000  0.308279  0.830716  0.894191   \n",
            "Height   0.097881 -0.089495 -0.171645  0.308279  1.000000  0.253710  0.134892   \n",
            "Neck    -0.472966  0.490592  0.113505  0.830716  0.253710  1.000000  0.784835   \n",
            "Chest   -0.682599  0.702620  0.176450  0.894191  0.134892  0.784835  1.000000   \n",
            "Abdomen -0.798955  0.813432  0.230409  0.887995  0.087813  0.754077  0.915828   \n",
            "Hip     -0.609331  0.625201 -0.050332  0.940884  0.170394  0.734958  0.829420   \n",
            "Thigh   -0.553091  0.559608 -0.200096  0.868694  0.148436  0.695697  0.729859   \n",
            "Knee    -0.495040  0.508665  0.017516  0.853167  0.286053  0.672405  0.719496   \n",
            "Ankle   -0.264890  0.265970 -0.105058  0.613685  0.264744  0.477892  0.482988   \n",
            "Biceps  -0.487109  0.493271 -0.041162  0.800416  0.207816  0.731146  0.727907   \n",
            "Forearm -0.351648  0.361387 -0.085056  0.630301  0.228649  0.623660  0.580173   \n",
            "Wrist   -0.325716  0.346575  0.213531  0.729775  0.322065  0.744826  0.660162   \n",
            "\n",
            "          Abdomen       Hip     Thigh      Knee     Ankle    Biceps   Forearm  \\\n",
            "Density -0.798955 -0.609331 -0.553091 -0.495040 -0.264890 -0.487109 -0.351648   \n",
            "BodyFat  0.813432  0.625201  0.559608  0.508665  0.265970  0.493271  0.361387   \n",
            "Age      0.230409 -0.050332 -0.200096  0.017516 -0.105058 -0.041162 -0.085056   \n",
            "Weight   0.887995  0.940884  0.868694  0.853167  0.613685  0.800416  0.630301   \n",
            "Height   0.087813  0.170394  0.148436  0.286053  0.264744  0.207816  0.228649   \n",
            "Neck     0.754077  0.734958  0.695697  0.672405  0.477892  0.731146  0.623660   \n",
            "Chest    0.915828  0.829420  0.729859  0.719496  0.482988  0.727907  0.580173   \n",
            "Abdomen  1.000000  0.874066  0.766624  0.737179  0.453223  0.684983  0.503316   \n",
            "Hip      0.874066  1.000000  0.896410  0.823473  0.558387  0.739273  0.545014   \n",
            "Thigh    0.766624  0.896410  1.000000  0.799170  0.539797  0.761477  0.566842   \n",
            "Knee     0.737179  0.823473  0.799170  1.000000  0.611608  0.678709  0.555898   \n",
            "Ankle    0.453223  0.558387  0.539797  0.611608  1.000000  0.484855  0.419050   \n",
            "Biceps   0.684983  0.739273  0.761477  0.678709  0.484855  1.000000  0.678255   \n",
            "Forearm  0.503316  0.545014  0.566842  0.555898  0.419050  0.678255  1.000000   \n",
            "Wrist    0.619832  0.630090  0.558685  0.664507  0.566195  0.632126  0.585588   \n",
            "\n",
            "            Wrist  \n",
            "Density -0.325716  \n",
            "BodyFat  0.346575  \n",
            "Age      0.213531  \n",
            "Weight   0.729775  \n",
            "Height   0.322065  \n",
            "Neck     0.744826  \n",
            "Chest    0.660162  \n",
            "Abdomen  0.619832  \n",
            "Hip      0.630090  \n",
            "Thigh    0.558685  \n",
            "Knee     0.664507  \n",
            "Ankle    0.566195  \n",
            "Biceps   0.632126  \n",
            "Forearm  0.585588  \n",
            "Wrist    1.000000  \n"
          ]
        }
      ]
    },
    {
      "cell_type": "code",
      "source": [
        "column_normal = 'BodyFat'\n",
        "plt.boxplot(df[column_normal])\n",
        "plt.title(\"Boxplot de BodyFat\")\n",
        "plt.show()"
      ],
      "metadata": {
        "colab": {
          "base_uri": "https://localhost:8080/",
          "height": 452
        },
        "id": "uFx0GKlcOEBf",
        "outputId": "db776985-7130-46b5-aaae-84bf3d3ddaa3"
      },
      "execution_count": 5,
      "outputs": [
        {
          "output_type": "display_data",
          "data": {
            "text/plain": [
              "<Figure size 640x480 with 1 Axes>"
            ],
            "image/png": "[encoded data removed]"
          },
          "metadata": {}
        }
      ]
    },
    {
      "cell_type": "code",
      "source": [
        "prob_age_gt_40 = len(df[df['Age'] > 40]) / len(df)\n",
        "prob_bodyfat_gt_20 = len(df[df['BodyFat'] > 20]) / len(df)\n",
        "prob_age_gt_40_and_bodyfat_gt_20 = len(df[(df['Age'] > 40) & (df['BodyFat'] > 20)]) / len(df)\n",
        "prob_bodyfat_gt_20_given_age_gt_40 = prob_age_gt_40_and_bodyfat_gt_20 / prob_age_gt_40\n",
        "print(prob_bodyfat_gt_20_given_age_gt_40)\n",
        "print(prob_age_gt_40_and_bodyfat_gt_20)\n"
      ],
      "metadata": {
        "colab": {
          "base_uri": "https://localhost:8080/"
        },
        "id": "WvyKqENdOELG",
        "outputId": "de7f39ef-7f92-455e-d8c2-7964197c4aa8"
      },
      "execution_count": 10,
      "outputs": [
        {
          "output_type": "stream",
          "name": "stdout",
          "text": [
            "0.55\n",
            "0.3492063492063492\n"
          ]
        }
      ]
    },
    {
      "cell_type": "code",
      "source": [
        "column_continuous_normal = 'Neck'\n",
        "mean_neck = df[column_continuous_normal].mean()\n",
        "std_neck = df[column_continuous_normal].std()\n",
        "z_score = (45 - mean_neck) / std_neck\n",
        "prob_neck_gt_45 = 1 - stats.norm.cdf(z_score)\n",
        "print(prob_neck_gt_45)"
      ],
      "metadata": {
        "colab": {
          "base_uri": "https://localhost:8080/"
        },
        "id": "9pjtrf6DOET8",
        "outputId": "3f4230df-b681-45a6-c292-9474c910dd7c"
      },
      "execution_count": 12,
      "outputs": [
        {
          "output_type": "stream",
          "name": "stdout",
          "text": [
            "0.0019705311344214715\n"
          ]
        }
      ]
    },
    {
      "cell_type": "code",
      "source": [
        "column_A = 'BodyFat'\n",
        "column_B = 'Abdomen'\n",
        "df_filtered = df[df[column_B] >= 85]\n",
        "t_statistic, p_value = stats.ttest_ind(df[column_A], df_filtered[column_A])\n",
        "alpha = 0.05\n",
        "if p_value < alpha:\n",
        "    print(\"A média de A após a filtragem é significativamente diferente da média original.\")\n",
        "else:\n",
        "    print(\"A média de A após a filtragem não é significativamente diferente da média original.\")\n"
      ],
      "metadata": {
        "colab": {
          "base_uri": "https://localhost:8080/"
        },
        "id": "fU8SlG2yOEeI",
        "outputId": "aa2c3fa5-ba7f-4118-ddc0-ae49c5fa2c59"
      },
      "execution_count": 13,
      "outputs": [
        {
          "output_type": "stream",
          "name": "stdout",
          "text": [
            "A média de A após a filtragem é significativamente diferente da média original.\n"
          ]
        }
      ]
    },
    {
      "cell_type": "code",
      "source": [
        "Eu selecionaria pessoas de diversas regioes do brasil para que podessem representar o Brasil"
      ],
      "metadata": {
        "id": "03f8WAXkOEnv"
      },
      "execution_count": null,
      "outputs": []
    },
    {
      "cell_type": "markdown",
      "source": [],
      "metadata": {
        "id": "7xUobKzdq5em"
      }
    },
    {
      "cell_type": "code",
      "source": [],
      "metadata": {
        "id": "Rxd5PWYXOE97"
      },
      "execution_count": null,
      "outputs": []
    }
  ]
}